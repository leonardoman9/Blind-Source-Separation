{
  "cells": [
    {
      "cell_type": "code",
      "execution_count": 1,
      "metadata": {
        "id": "wrlTnZCNfnfr"
      },
      "outputs": [],
      "source": [
        "import tensorflow as tf\n",
        "import tensorflow as tf\n",
        "from tensorflow.keras import Model\n",
        "from tensorflow.keras.layers import Conv2D, Conv2DTranspose, Input, Concatenate\n",
        "from tensorflow.keras import layers\n",
        "from tensorflow.keras.datasets import mnist, fashion_mnist\n",
        "\n",
        "import numpy as np\n",
        "from matplotlib import pyplot as plt"
      ]
    },
    {
      "cell_type": "markdown",
      "metadata": {
        "id": "BtO9jMGEaShb"
      },
      "source": [
        "# Blind source separation\n",
        "\n",
        "This project aims to separate an image, formed as the sum of two images, into its original components.\n",
        "\n",
        "The two source images, img1 and img2, are drawn from different datasets: MNIST and Fashion-MNIST, respectively.\n",
        "\n",
        "No preprocessing is allowed. The neural network receives the combined image (img1 + img2) as input and outputs the predicted components (hat_img1,hat_img2).\n",
        "\n",
        "Performance is evaluated using the mean squared error (MSE) between the predicted and ground-truth images.\n",
        "\n",
        "Both datasets (MNIST and Fashion-MNIST) are grayscale. For simplicity, all samples are padded to a (32,32) resolution."
      ]
    },
    {
      "cell_type": "code",
      "execution_count": 11,
      "metadata": {
        "colab": {
          "base_uri": "https://localhost:8080/"
        },
        "id": "yRYiW2ipukZF",
        "outputId": "895f7032-f693-4719-d146-7e96af6d83e6"
      },
      "outputs": [
        {
          "name": "stdout",
          "output_type": "stream",
          "text": [
            "(60000, 28, 28)\n",
            "(60000, 32, 32)\n"
          ]
        }
      ],
      "source": [
        "(mnist_x_train, mnist_y_train), (mnist_x_test, mnist_y_test) = mnist.load_data()\n",
        "print(np.shape(mnist_x_train))\n",
        "(fashion_mnist_x_train, fashion_mnist_y_train), (fashion_mnist_x_test, fashion_mnist_y_test) = fashion_mnist.load_data()\n",
        "#normnalize in and pad\n",
        "mnist_x_train = np.pad(mnist_x_train,((0,0),(2,2),(2,2)))/255.\n",
        "print(np.shape(mnist_x_train))\n",
        "mnist_x_test = np.pad(mnist_x_test,((0,0),(2,2),(2,2)))/255.\n",
        "fashion_mnist_x_train = np.pad(fashion_mnist_x_train,((0,0),(2,2),(2,2)))/255.\n",
        "fashion_mnist_x_test = np.pad(fashion_mnist_x_test,((0,0),(2,2),(2,2)))/255."
      ]
    },
    {
      "cell_type": "code",
      "execution_count": 12,
      "metadata": {
        "colab": {
          "base_uri": "https://localhost:8080/"
        },
        "id": "WBIWB2a-VGqH",
        "outputId": "b3bcab87-5ab0-4f1b-98e7-dc209f6c7987"
      },
      "outputs": [
        {
          "name": "stdout",
          "output_type": "stream",
          "text": [
            "(60000, 32, 32)\n"
          ]
        }
      ],
      "source": [
        "print(np.shape(mnist_x_train))"
      ]
    },
    {
      "cell_type": "markdown",
      "metadata": {
        "id": "Or5X_DyPc6dT"
      },
      "source": [
        "Here is a simple datagenerator."
      ]
    },
    {
      "cell_type": "code",
      "execution_count": 22,
      "metadata": {
        "id": "7Y5Zpv5fw2hd"
      },
      "outputs": [],
      "source": [
        "def datagenerator(x1,x2,batchsize):\n",
        "    n1 = x1.shape[0]\n",
        "    n2 = x2.shape[0]\n",
        "    while True:\n",
        "        num1 = np.random.randint(0, n1, batchsize)\n",
        "        num2 = np.random.randint(0, n2, batchsize)\n",
        "\n",
        "        x_data = (x1[num1] + x2[num2]) / 2.0\n",
        "        y_data = (x1[num1], x2[num2])\n",
        "\n",
        "        yield x_data, y_data"
      ]
    },
    {
      "cell_type": "markdown",
      "metadata": {
        "id": "9JLwLpsrdVH-"
      },
      "source": [
        "Let us define a generator with batchsize=1 and let's test it."
      ]
    },
    {
      "cell_type": "code",
      "execution_count": 23,
      "metadata": {
        "id": "dkv8Qc9-wEnf"
      },
      "outputs": [],
      "source": [
        "onegen = datagenerator(mnist_x_test,fashion_mnist_x_test,1)"
      ]
    },
    {
      "cell_type": "markdown",
      "metadata": {
        "id": "UiVcyHrVeXpI"
      },
      "source": [
        "Let us look at some input-output pairs"
      ]
    },
    {
      "cell_type": "code",
      "execution_count": 44,
      "metadata": {
        "id": "y0BEm2dhGx30"
      },
      "outputs": [],
      "source": [
        "def show_images(x,y1,y2):\n",
        "    fig, ax = plt.subplots(1,3,figsize=(12,4))\n",
        "    ax[0].imshow(x,cmap='gray')\n",
        "    ax[0].title.set_text('Input')\n",
        "    ax[0].axis('off')\n",
        "    ax[1].imshow(y1,cmap='gray')\n",
        "    ax[1].title.set_text('mnist')\n",
        "    ax[1].axis('off')\n",
        "    ax[2].imshow(y2,cmap='gray')\n",
        "    ax[2].title.set_text('fashion_mnist')\n",
        "    ax[2].axis('off')\n",
        "    plt.show()"
      ]
    },
    {
      "cell_type": "code",
      "execution_count": 67,
      "metadata": {
        "colab": {
          "base_uri": "https://localhost:8080/",
          "height": 332
        },
        "id": "d1l_Ry2FHQqP",
        "outputId": "02f9ea4c-ceb7-45f7-bb4f-30bb85e5a978"
      },
      "outputs": [
        {
          "data": {
            "image/png": "[encoded data removed]",
            "text/plain": [
              "<Figure size 1200x400 with 3 Axes>"
            ]
          },
          "metadata": {},
          "output_type": "display_data"
        }
      ],
      "source": [
        "x,(y1,y2)=next(onegen)\n",
        "show_images(x[0],y1[0],y2[0])"
      ]
    },
    {
      "cell_type": "code",
      "execution_count": null,
      "metadata": {},
      "outputs": [],
      "source": []
    },
    {
      "cell_type": "markdown",
      "metadata": {
        "id": "lO0l50Z9W9c-"
      },
      "source": [
        "# Model evalaution\n",
        "\n",
        "Let us define the test generator."
      ]
    },
    {
      "cell_type": "code",
      "execution_count": 49,
      "metadata": {
        "colab": {
          "base_uri": "https://localhost:8080/"
        },
        "id": "4Qrl40WWJrwV",
        "outputId": "83c62a0e-6d5a-4ee9-8fa1-28a7fcbb8898"
      },
      "outputs": [
        {
          "name": "stdout",
          "output_type": "stream",
          "text": [
            "(5000, 32, 32)\n"
          ]
        }
      ],
      "source": [
        "testgen = datagenerator(mnist_x_test,fashion_mnist_x_test,5000)\n",
        "\n",
        "eval_samples_x, (eval_samples_y1, eval_sample2) = next(testgen)"
      ]
    },
    {
      "cell_type": "markdown",
      "metadata": {
        "id": "2ubgEZV6Xkz6"
      },
      "source": [
        "We test a model returning twice the input image. You will need to replace it with your own predictive model."
      ]
    },
    {
      "cell_type": "code",
      "execution_count": 50,
      "metadata": {
        "id": "NXPbkJjQX1pk"
      },
      "outputs": [],
      "source": [
        "def ide_model(x):\n",
        "   return((x,x))"
      ]
    },
    {
      "cell_type": "code",
      "execution_count": 51,
      "metadata": {
        "id": "8W7k_wCHYj_d"
      },
      "outputs": [],
      "source": [
        "def eval_model(model):\n",
        "  x, (y1,y2) = next(testgen)\n",
        "\n",
        "  # use model.predict to get predictions. Here we just call model\n",
        "  pred1,pred2 = model(x)\n",
        "\n",
        "  return (np.mean((pred1-y1)**2) + np.mean((pred2-y2)**2) / 2)"
      ]
    },
    {
      "cell_type": "code",
      "execution_count": 58,
      "metadata": {
        "colab": {
          "base_uri": "https://localhost:8080/"
        },
        "id": "k4ffEJ7PZ1Fd",
        "outputId": "2b7fb5e7-bdd0-42fc-de02-a6fa44c9f370"
      },
      "outputs": [
        {
          "name": "stdout",
          "output_type": "stream",
          "text": [
            "mse =  0.05457988661275861\n",
            "standard deviation =  0.0003486965908234839\n"
          ]
        }
      ],
      "source": [
        "repeat_eval = 10\n",
        "eval_results = []\n",
        "for i in range(repeat_eval):\n",
        "  eval_results.append(eval_model(ide_model))\n",
        "print(\"mse = \", np.mean(eval_results))\n",
        "print(\"standard deviation = \", np.std(eval_results))"
      ]
    },
    {
      "cell_type": "markdown",
      "metadata": {
        "id": "wnuAA_CNWaSm"
      },
      "source": [
        "# What to deliver\n",
        "As usual, you are supposed to deliver a single notebook that is supposed to run on colab. The notebook should be adequately commented, contain a full trace of the training, the computation of the mse in the form specified above and a few examples.\n",
        "\n",
        "Good Work!"
      ]
    }
  ],
  "metadata": {
    "accelerator": "GPU",
    "colab": {
      "provenance": []
    },
    "kernelspec": {
      "display_name": "Python 3",
      "name": "python3"
    },
    "language_info": {
      "name": "python"
    }
  },
  "nbformat": 4,
  "nbformat_minor": 0
}
